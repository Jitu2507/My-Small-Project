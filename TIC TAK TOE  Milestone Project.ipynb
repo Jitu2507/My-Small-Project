{
 "cells": [
  {
   "cell_type": "code",
   "execution_count": 41,
   "id": "f40cb6ce",
   "metadata": {},
   "outputs": [],
   "source": [
    "from IPython.display import clear_output\n",
    "\n",
    "def display_board(board):\n",
    "    clear_output()\n",
    "    print(\"    GAME\",\"       ||      \",\"POSITION\")\n",
    "    print(\"________________||_________________\")\n",
    "    print(\"                ||\")\n",
    "    \n",
    "    print(\" \"+board[1]+\" | \"+board[2]+\" | \"+board[3] ,\"     ||    \",\" 1 | 2 | 3 \")\n",
    "    print(\"-----------\",\"    ||    \",\"-----------\")\n",
    "    print(\" \"+board[4]+\" | \"+board[5]+\" | \"+board[6] ,\"     ||    \",\" 4 | 5 | 6 \")\n",
    "    print(\"-----------\",\"    ||    \",\"-----------\")\n",
    "    print(\" \"+board[7]+\" | \"+board[8]+\" | \"+board[9] ,\"     ||    \",\" 7 | 8 | 9 \")\n",
    "    "
   ]
  },
  {
   "cell_type": "code",
   "execution_count": 42,
   "id": "54fba3ee",
   "metadata": {},
   "outputs": [],
   "source": [
    "def player_input():\n",
    "    \n",
    "    mark= \"\"\n",
    "    while not(mark == \"X\" or mark == \"O\"):\n",
    "        mark=input(\"Player 1: What Do you Want X or O\").upper()\n",
    "        \n",
    "    if mark==\"X\":\n",
    "        return (\"X\",\"O\")\n",
    "    else :\n",
    "        return (\"O\",\"X\")\n",
    "        "
   ]
  },
  {
   "cell_type": "code",
   "execution_count": 43,
   "id": "66b97c1b",
   "metadata": {},
   "outputs": [],
   "source": [
    "def place_marker(board, marker, position):\n",
    "    board[position]=marker"
   ]
  },
  {
   "cell_type": "code",
   "execution_count": 44,
   "id": "3893aaef",
   "metadata": {},
   "outputs": [
    {
     "name": "stdout",
     "output_type": "stream",
     "text": [
      "    GAME        ||       POSITION\n",
      "________________||_________________\n",
      "                ||\n",
      " X | O | X      ||      1 | 2 | 3 \n",
      "-----------     ||     -----------\n",
      " O | X | O      ||      4 | 5 | 6 \n",
      "-----------     ||     -----------\n",
      " X | & | X      ||      7 | 8 | 9 \n"
     ]
    }
   ],
   "source": [
    "place_marker(test_board,'&',8)\n",
    "display_board(test_board)"
   ]
  },
  {
   "cell_type": "code",
   "execution_count": 45,
   "id": "03adfff8",
   "metadata": {},
   "outputs": [],
   "source": [
    "def win_check(board, mark):\n",
    "    return((board[1]==mark and board[2]==mark and board[3]==mark) or\n",
    "        (board[4]==mark and board[5]==mark and board[6]==mark) or\n",
    "        (board[7]==mark and board[8]==mark and board[9]==mark) or\n",
    "        (board[1]==mark and board[5]==mark and board[9]==mark) or\n",
    "        (board[3]==mark and board[5]==mark and board[7]==mark) or\n",
    "        (board[2]==mark and board[5]==mark and board[8]==mark) or\n",
    "        (board[3]==mark and board[6]==mark and board[9]==mark) or\n",
    "        (board[1]==mark and board[4]==mark and board[7]==mark))"
   ]
  },
  {
   "cell_type": "code",
   "execution_count": 46,
   "id": "ff6dd65d",
   "metadata": {},
   "outputs": [],
   "source": [
    "import random\n",
    "\n",
    "def choose_first():\n",
    "    if random.randint(0,1)==0:\n",
    "        return \"Player 2\"\n",
    "    else:\n",
    "        return \"player 1\""
   ]
  },
  {
   "cell_type": "code",
   "execution_count": 47,
   "id": "525b43ed",
   "metadata": {},
   "outputs": [],
   "source": [
    "def space_check(board, position):\n",
    "    \n",
    "    return board[position]== \" \""
   ]
  },
  {
   "cell_type": "code",
   "execution_count": 48,
   "id": "5998aae9",
   "metadata": {},
   "outputs": [],
   "source": [
    "def full_board_check(board):\n",
    "    for i in range(1,10):\n",
    "        if space_check(board, i):\n",
    "            return False\n",
    "    return True"
   ]
  },
  {
   "cell_type": "code",
   "execution_count": 49,
   "id": "fc9420e6",
   "metadata": {},
   "outputs": [],
   "source": [
    "def player_choice(board):\n",
    "    position=0\n",
    "    \n",
    "    while position not in[1,2,3,4,5,6,7,8,9] or not space_check(board,position):\n",
    "        position=int(input(\"Choose Your Position : ( 1 | 9 ) -\"))\n",
    "    return position"
   ]
  },
  {
   "cell_type": "code",
   "execution_count": 50,
   "id": "334878de",
   "metadata": {},
   "outputs": [],
   "source": [
    "def replay():\n",
    "    \n",
    "    return input(\"Want to Play Again : Y | N - \").lower().startswith(\"y\")"
   ]
  },
  {
   "cell_type": "code",
   "execution_count": 51,
   "id": "5daba89f",
   "metadata": {},
   "outputs": [
    {
     "name": "stdout",
     "output_type": "stream",
     "text": [
      "    GAME        ||       POSITION\n",
      "________________||_________________\n",
      "                ||\n",
      " O | X | O      ||      1 | 2 | 3 \n",
      "-----------     ||     -----------\n",
      " X | O | O      ||      4 | 5 | 6 \n",
      "-----------     ||     -----------\n",
      " X | O | X      ||      7 | 8 | 9 \n",
      "The game is a draw!\n",
      "Want to Play Again : Y | N - n\n"
     ]
    }
   ],
   "source": [
    "print('Welcome to Tic Tac Toe!')\n",
    "\n",
    "while True:\n",
    "    # Reset the board\n",
    "    theBoard = [' '] * 10\n",
    "    player1_marker, player2_marker = player_input()\n",
    "    turn = choose_first()\n",
    "    print(\"\")\n",
    "    print(turn + ' will go first.')\n",
    "    \n",
    "    play_game = input('Are you ready to play? Enter Yes or No.')\n",
    "    \n",
    "    if play_game.lower()[0] == 'y':\n",
    "        game_on = True\n",
    "    else:\n",
    "        game_on = False\n",
    "\n",
    "    while game_on:\n",
    "        if turn == 'Player 1':\n",
    "            \n",
    "            \n",
    "            display_board(theBoard)\n",
    "            position = player_choice(theBoard)\n",
    "            place_marker(theBoard, player1_marker, position)\n",
    "\n",
    "            if win_check(theBoard, player1_marker):\n",
    "                display_board(theBoard)\n",
    "                print('Congratulations! You have won the game!')\n",
    "                game_on = False\n",
    "            else:\n",
    "                if full_board_check(theBoard):\n",
    "                    display_board(theBoard)\n",
    "                    print('The game is a draw!')\n",
    "                    break\n",
    "                else:\n",
    "                    turn = 'Player 2'\n",
    "\n",
    "        else:\n",
    "            \n",
    "            \n",
    "            display_board(theBoard)\n",
    "            position = player_choice(theBoard)\n",
    "            place_marker(theBoard, player2_marker, position)\n",
    "\n",
    "            if win_check(theBoard, player2_marker):\n",
    "                display_board(theBoard)\n",
    "                print('Player 2 has won!')\n",
    "                game_on = False\n",
    "            else:\n",
    "                if full_board_check(theBoard):\n",
    "                    display_board(theBoard)\n",
    "                    print('The game is a draw!')\n",
    "                    break\n",
    "                else:\n",
    "                    turn = 'Player 1'\n",
    "\n",
    "    if not replay():\n",
    "        break"
   ]
  },
  {
   "cell_type": "code",
   "execution_count": null,
   "id": "8c3ae304",
   "metadata": {},
   "outputs": [],
   "source": []
  },
  {
   "cell_type": "code",
   "execution_count": null,
   "id": "5ebbfeb0",
   "metadata": {},
   "outputs": [],
   "source": []
  },
  {
   "cell_type": "code",
   "execution_count": null,
   "id": "5ae34f32",
   "metadata": {},
   "outputs": [],
   "source": []
  }
 ],
 "metadata": {
  "kernelspec": {
   "display_name": "Python 3",
   "language": "python",
   "name": "python3"
  },
  "language_info": {
   "codemirror_mode": {
    "name": "ipython",
    "version": 3
   },
   "file_extension": ".py",
   "mimetype": "text/x-python",
   "name": "python",
   "nbconvert_exporter": "python",
   "pygments_lexer": "ipython3",
   "version": "3.8.8"
  }
 },
 "nbformat": 4,
 "nbformat_minor": 5
}
